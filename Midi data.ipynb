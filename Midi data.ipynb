{
 "cells": [
  {
   "cell_type": "code",
   "execution_count": 119,
   "metadata": {},
   "outputs": [],
   "source": [
    "import mido \n",
    "import pretty_midi as pm"
   ]
  },
  {
   "cell_type": "markdown",
   "metadata": {},
   "source": [
    "# Extracting midi data from a MIDI file"
   ]
  },
  {
   "cell_type": "code",
   "execution_count": 120,
   "metadata": {},
   "outputs": [],
   "source": [
    "filename     = 'C:/Users/ELRA7/Documents/Homework Fall (2020)/EAS 503/stage-1-the-jungle-.mid'\n",
    "contra_track = mido.MidiFile(filename) # opens midi file "
   ]
  },
  {
   "cell_type": "code",
   "execution_count": 121,
   "metadata": {},
   "outputs": [],
   "source": [
    "filename     = 'C:/Users/ELRA7/Documents/Homework Fall (2020)/EAS 503/stage-1-the-jungle-.mid'"
   ]
  },
  {
   "cell_type": "code",
   "execution_count": 122,
   "metadata": {},
   "outputs": [],
   "source": [
    "# headers{status, channel, note number, }"
   ]
  },
  {
   "cell_type": "code",
   "execution_count": 123,
   "metadata": {},
   "outputs": [],
   "source": [
    "#contra_track.get_pitch_class_histogram()"
   ]
  },
  {
   "cell_type": "code",
   "execution_count": 124,
   "metadata": {},
   "outputs": [],
   "source": [
    "# iterating over the midi file can extract midi messages\n",
    "def message_extractor(filename):\n",
    "    \n",
    "    midi_track = mido.MidiFile(filename) # opens midi file \n",
    "    messages = []\n",
    "    message = ''\n",
    "    for msg in midi_track:\n",
    "        if not msg.is_meta:\n",
    "            messages.append(str(msg).split())\n",
    "    return(messages)\n",
    "\n",
    "def parser(messages):\n",
    "    for i in range(len(messages)):\n",
    "        if messages[i][0] == \"note_on\":\n",
    "            messages[i][0] = 1\n",
    "        elif messages[i][0] == \"note_off\":\n",
    "            messages[i][0] = 0\n",
    "    for i in range(len(messages)):\n",
    "        if messages[i][1].startswith('channel') == True: \n",
    "            messages[i][1] = int(messages[i][1].strip('channel='))\n",
    "    for i in range(len(messages)):\n",
    "        if messages[i][2].startswith('note') == True: \n",
    "            messages[i][2] = int(messages[i][2].strip('note='))\n",
    "    for i in range(len(messages)):\n",
    "        if messages[i][3].startswith('velocity') == True: \n",
    "            messages[i][3] = int(messages[i][3].strip('velocity='))\n",
    "    for i in range(len(messages)):\n",
    "        if len(messages[i]) == 5:\n",
    "            if messages[i][4].startswith('time') == True:\n",
    "                messages[i][4] = float(messages[i][4].strip('time='))\n",
    "                messages[i][4] = round(messages[i][4], 2)\n",
    "    return(messages)"
   ]
  },
  {
   "cell_type": "code",
   "execution_count": 125,
   "metadata": {},
   "outputs": [],
   "source": [
    "#messages # display messages"
   ]
  },
  {
   "cell_type": "markdown",
   "metadata": {},
   "source": [
    "# Parsing Midi Messages and putting it into a data frame. "
   ]
  },
  {
   "cell_type": "code",
   "execution_count": 126,
   "metadata": {},
   "outputs": [],
   "source": [
    "messages = message_extractor(filename)"
   ]
  },
  {
   "cell_type": "code",
   "execution_count": 127,
   "metadata": {},
   "outputs": [],
   "source": [
    "parsed_messages = parser(messages)"
   ]
  },
  {
   "cell_type": "code",
   "execution_count": 128,
   "metadata": {},
   "outputs": [],
   "source": [
    "import pandas as pd"
   ]
  },
  {
   "cell_type": "code",
   "execution_count": 129,
   "metadata": {},
   "outputs": [],
   "source": [
    "MIDIData = pd.DataFrame(parsed_messages[10:])\n",
    "MIDIData.columns = ['note stat', 'channel', \"pitch\", 'velocity', 'time'] # re names coulumn headers \n",
    "#MIDIData"
   ]
  },
  {
   "cell_type": "markdown",
   "metadata": {},
   "source": [
    "# Analysis and Graphing "
   ]
  },
  {
   "cell_type": "code",
   "execution_count": 130,
   "metadata": {},
   "outputs": [],
   "source": [
    "import matplotlib.pyplot as plt"
   ]
  },
  {
   "cell_type": "code",
   "execution_count": 131,
   "metadata": {},
   "outputs": [
    {
     "data": {
      "text/plain": [
       "Text(0,0.5,'pitch')"
      ]
     },
     "execution_count": 131,
     "metadata": {},
     "output_type": "execute_result"
    },
    {
     "data": {
      "image/png": "[encoded data removed]",
      "text/plain": [
       "<Figure size 720x360 with 1 Axes>"
      ]
     },
     "metadata": {
      "needs_background": "light"
     },
     "output_type": "display_data"
    }
   ],
   "source": [
    "plt.figure(figsize = (10,5))\n",
    "plt.plot(MIDIData['time'], MIDIData['pitch'],'.')\n",
    "plt.xlabel(\"time\")\n",
    "plt.ylabel('pitch')"
   ]
  },
  {
   "cell_type": "code",
   "execution_count": 132,
   "metadata": {},
   "outputs": [],
   "source": [
    "# using len() on get_downbeats you can count the number of measures"
   ]
  },
  {
   "cell_type": "code",
   "execution_count": 133,
   "metadata": {},
   "outputs": [],
   "source": [
    "# len(contra_track.get_beats())/4"
   ]
  },
  {
   "cell_type": "code",
   "execution_count": 134,
   "metadata": {},
   "outputs": [],
   "source": [
    "import seaborn as sns"
   ]
  },
  {
   "cell_type": "code",
   "execution_count": 135,
   "metadata": {},
   "outputs": [
    {
     "data": {
      "text/plain": [
       "<matplotlib.axes._subplots.AxesSubplot at 0x29ad69cba20>"
      ]
     },
     "execution_count": 135,
     "metadata": {},
     "output_type": "execute_result"
    },
    {
     "data": {
      "image/png": "[encoded data removed]",
      "text/plain": [
       "<Figure size 1080x360 with 1 Axes>"
      ]
     },
     "metadata": {
      "needs_background": "light"
     },
     "output_type": "display_data"
    }
   ],
   "source": [
    "plt.figure(figsize = (15,5))\n",
    "sns.countplot(MIDIData['pitch'])"
   ]
  },
  {
   "cell_type": "markdown",
   "metadata": {},
   "source": [
    "# Models and Predictions"
   ]
  },
  {
   "cell_type": "code",
   "execution_count": null,
   "metadata": {},
   "outputs": [],
   "source": []
  },
  {
   "cell_type": "code",
   "execution_count": null,
   "metadata": {},
   "outputs": [],
   "source": []
  },
  {
   "cell_type": "code",
   "execution_count": null,
   "metadata": {},
   "outputs": [],
   "source": []
  },
  {
   "cell_type": "markdown",
   "metadata": {},
   "source": [
    "# Creating the Midi Track "
   ]
  },
  {
   "cell_type": "code",
   "execution_count": 42,
   "metadata": {},
   "outputs": [],
   "source": [
    "#new       = mido.MidiFile()\n",
    "#new_track = mido.MidiTrack(())\n",
    "#quadgram  = (note_on, channel, note_num,velocity, time)\n",
    "#new_track.append(mido.Message(quadgram))"
   ]
  },
  {
   "cell_type": "markdown",
   "metadata": {},
   "source": [
    "# Outputing the midi messages to Supercollider instrument"
   ]
  },
  {
   "cell_type": "code",
   "execution_count": null,
   "metadata": {},
   "outputs": [],
   "source": []
  }
 ],
 "metadata": {
  "kernelspec": {
   "display_name": "Python 3",
   "language": "python",
   "name": "python3"
  },
  "language_info": {
   "codemirror_mode": {
    "name": "ipython",
    "version": 3
   },
   "file_extension": ".py",
   "mimetype": "text/x-python",
   "name": "python",
   "nbconvert_exporter": "python",
   "pygments_lexer": "ipython3",
   "version": "3.7.0"
  }
 },
 "nbformat": 4,
 "nbformat_minor": 2
}
